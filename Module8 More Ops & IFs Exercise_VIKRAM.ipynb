{
 "cells": [
  {
   "cell_type": "markdown",
   "metadata": {},
   "source": [
    "### Exercise 1\n",
    "Ask for an exam score and store that number. If the number is greater than 100, then print out 'You cannot have an exam score higher than 100'. If the number doesn't exceeed 100 but is greater than or equal to 75, then print out 'You did great on your exam!'. Otherwise if they scored lower than 75, then print out 'You need to study harder'."
   ]
  },
  {
   "cell_type": "code",
   "execution_count": 3,
   "metadata": {},
   "outputs": [
    {
     "name": "stdout",
     "output_type": "stream",
     "text": [
      "Enter your exam score:70\n",
      "You need to study harder.\n"
     ]
    }
   ],
   "source": [
    "x=float(input(\"Enter your exam score:\"))\n",
    "if x>100:\n",
    "    print('You cannot have an exam score higher than 100.')\n",
    "elif x>=75 and x<=100:\n",
    "    print(\"You did great on your exam!\")\n",
    "else:\n",
    "    print(\"You need to study harder.\")"
   ]
  },
  {
   "cell_type": "code",
   "execution_count": null,
   "metadata": {},
   "outputs": [],
   "source": []
  },
  {
   "cell_type": "markdown",
   "metadata": {},
   "source": [
    "### Exercise 2\n",
    "Ask a user to enter two numbers and find their average. Then, print out the average and whether each number is below or above average. Determine if a function should be created or not.\n",
    "    "
   ]
  },
  {
   "cell_type": "code",
   "execution_count": 8,
   "metadata": {},
   "outputs": [
    {
     "name": "stdout",
     "output_type": "stream",
     "text": [
      "Enter the first number:49.09877\n",
      "Enter the second number:98.056456365\n",
      "The average of the two numbers is 73.58\n",
      "49.09877 is less than the average, 73.58\n"
     ]
    }
   ],
   "source": [
    "x=float(input(\"Enter the first number:\"))\n",
    "y=float(input(\"Enter the second number:\"))\n",
    "z=(x+y)/2\n",
    "print(f\"The average of the two numbers is {z:.2f}\")\n",
    "if x<z:\n",
    "    print(f\"{x} is less than the average, {z:.2f}\")\n",
    "elif y<z:\n",
    "    print(f\"{y} is less than the average, {z:.2f}\")"
   ]
  },
  {
   "cell_type": "code",
   "execution_count": null,
   "metadata": {},
   "outputs": [],
   "source": []
  },
  {
   "cell_type": "code",
   "execution_count": null,
   "metadata": {},
   "outputs": [],
   "source": []
  },
  {
   "cell_type": "markdown",
   "metadata": {},
   "source": [
    "### Exercise 3\n",
    "Write a function to convert a test score to a grade where  \n",
    " - 90 - 100: A\n",
    " - 80 - 89:  B\n",
    " - 70 - 79:  C\n",
    " - 60 - 69:  D\n",
    " - < 60   :  F\n",
    " \n",
    "If a score is not between 0 and 100 then print out an error message. In the program, ask the user for a score and then call your function. "
   ]
  },
  {
   "cell_type": "code",
   "execution_count": 12,
   "metadata": {},
   "outputs": [
    {
     "name": "stdout",
     "output_type": "stream",
     "text": [
      "Enter your test score: 78.9\n",
      "Your grade is C\n"
     ]
    }
   ],
   "source": [
    "x = float(input(\"Enter your test score: \"))\n",
    "\n",
    "def grade_calc(x):\n",
    "    if 90 <= x <= 100:\n",
    "        return 'A'\n",
    "    elif 80 <= x < 90:\n",
    "        return 'B'\n",
    "    elif 70 <= x < 80:\n",
    "        return 'C'\n",
    "    elif 60 <= x < 70:\n",
    "        return 'D'\n",
    "    elif 0 <= v < 60:\n",
    "        return 'F'\n",
    "    else:\n",
    "        return 'Error: Score out of range.'\n",
    "z = grade_calc(x)\n",
    "print(f\"Your grade is {z}\")\n"
   ]
  },
  {
   "cell_type": "code",
   "execution_count": null,
   "metadata": {},
   "outputs": [],
   "source": []
  },
  {
   "cell_type": "code",
   "execution_count": null,
   "metadata": {},
   "outputs": [],
   "source": []
  },
  {
   "cell_type": "markdown",
   "metadata": {},
   "source": [
    "### Exercise 4\n",
    "Convert following decimal number to a binary number by hand:\n",
    "\n",
    "    61\n",
    "    15\n",
    "    71\n",
    "    "
   ]
  },
  {
   "cell_type": "code",
   "execution_count": 17,
   "metadata": {},
   "outputs": [
    {
     "name": "stdout",
     "output_type": "stream",
     "text": [
      "Enter a postive integer:61\n",
      "111101\n"
     ]
    }
   ],
   "source": [
    "\n",
    "n=int(input(\"Enter a postive integer:\"))\n",
    "def decimal_to_binary(n):\n",
    "    binary_number = ''\n",
    "    while n > 0:\n",
    "        binary_number = f\"{n % 2}{binary_number}\"\n",
    "        n = n // 2\n",
    "    return binary_number if binary_number else '0'\n",
    "print(decimal_to_binary(n))"
   ]
  },
  {
   "cell_type": "code",
   "execution_count": 18,
   "metadata": {},
   "outputs": [
    {
     "name": "stdout",
     "output_type": "stream",
     "text": [
      "Enter a postive integer:15\n",
      "1111\n"
     ]
    }
   ],
   "source": [
    "n=int(input(\"Enter a postive integer:\"))\n",
    "def decimal_to_binary(n):\n",
    "    binary_number = ''\n",
    "    while n > 0:\n",
    "        binary_number = f\"{n % 2}{binary_number}\"\n",
    "        n = n // 2\n",
    "    return binary_number if binary_number else '0'\n",
    "print(decimal_to_binary(n))"
   ]
  },
  {
   "cell_type": "code",
   "execution_count": 19,
   "metadata": {},
   "outputs": [
    {
     "name": "stdout",
     "output_type": "stream",
     "text": [
      "Enter a postive integer:71\n",
      "1000111\n"
     ]
    }
   ],
   "source": [
    "n=int(input(\"Enter a postive integer:\"))\n",
    "def decimal_to_binary(n):\n",
    "    binary_number = ''\n",
    "    while n > 0:\n",
    "        binary_number = f\"{n % 2}{binary_number}\"\n",
    "        n = n // 2\n",
    "    return binary_number if binary_number else '0'\n",
    "print(decimal_to_binary(n))"
   ]
  },
  {
   "cell_type": "markdown",
   "metadata": {},
   "source": [
    "### Exercise 5\n",
    "When a = 61 and b = 15, what is the result of following bitwise opertion? Use inline comments to show your result in a binary number. Find your answer by hand.\n",
    "\n",
    "    a & b\n",
    "    a | b\n",
    "    a ^ b\n",
    "    a >> 2\n",
    "    "
   ]
  },
  {
   "cell_type": "code",
   "execution_count": null,
   "metadata": {},
   "outputs": [],
   "source": [
    "00111101  #(61 in binary)\n",
    "00001111  #(15 in binary)\n",
    "\n",
    "a & b will be\n",
    "\n",
    "00001101  #(13 in decimal)"
   ]
  },
  {
   "cell_type": "code",
   "execution_count": null,
   "metadata": {},
   "outputs": [],
   "source": [
    "00111101  #(61 in binary)\n",
    "00001111  #(15 in binary)\n",
    "\n",
    "a | b will be\n",
    "\n",
    "00111111 #(63 in decimal)"
   ]
  },
  {
   "cell_type": "code",
   "execution_count": null,
   "metadata": {},
   "outputs": [],
   "source": [
    "00111101  #(61 in binary)\n",
    "00001111  #(15 in binary)\n",
    "\n",
    "a ^ b will be\n",
    "\n",
    "00110010  #(50 in decimal)"
   ]
  },
  {
   "cell_type": "code",
   "execution_count": null,
   "metadata": {},
   "outputs": [],
   "source": [
    "00111101  #(61 in binary)\n",
    "\n",
    "a>>2 will be\n",
    "\n",
    "00001111 #(15 in decimal)"
   ]
  },
  {
   "cell_type": "code",
   "execution_count": null,
   "metadata": {},
   "outputs": [],
   "source": []
  }
 ],
 "metadata": {
  "kernelspec": {
   "display_name": "Python 3 (ipykernel)",
   "language": "python",
   "name": "python3"
  },
  "language_info": {
   "codemirror_mode": {
    "name": "ipython",
    "version": 3
   },
   "file_extension": ".py",
   "mimetype": "text/x-python",
   "name": "python",
   "nbconvert_exporter": "python",
   "pygments_lexer": "ipython3",
   "version": "3.11.5"
  }
 },
 "nbformat": 4,
 "nbformat_minor": 4
}
